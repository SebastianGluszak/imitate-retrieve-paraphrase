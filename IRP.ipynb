{
  "nbformat": 4,
  "nbformat_minor": 0,
  "metadata": {
    "colab": {
      "provenance": [],
      "gpuType": "T4"
    },
    "kernelspec": {
      "name": "python3",
      "display_name": "Python 3"
    },
    "language_info": {
      "name": "python"
    },
    "accelerator": "GPU"
  },
  "cells": [
    {
      "cell_type": "code",
      "source": [
        "from google.colab import drive\n",
        "drive.mount('/content/drive')\n",
        "drive_path = 'drive/MyDrive/imitate-retrieve-paraphrase'"
      ],
      "metadata": {
        "colab": {
          "base_uri": "https://localhost:8080/"
        },
        "id": "RskWWcwyMHK-",
        "outputId": "cdefcfe2-4473-4fd9-8ed8-dce67142672f"
      },
      "execution_count": 1,
      "outputs": [
        {
          "output_type": "stream",
          "name": "stdout",
          "text": [
            "Drive already mounted at /content/drive; to attempt to forcibly remount, call drive.mount(\"/content/drive\", force_remount=True).\n"
          ]
        }
      ]
    },
    {
      "cell_type": "code",
      "source": [
        "%pip install datasets"
      ],
      "metadata": {
        "colab": {
          "base_uri": "https://localhost:8080/"
        },
        "id": "er6Pg5Jwpiba",
        "outputId": "16fe5240-a08c-46cb-d7ec-5f4402e4a1cb"
      },
      "execution_count": 2,
      "outputs": [
        {
          "output_type": "stream",
          "name": "stdout",
          "text": [
            "Requirement already satisfied: datasets in /usr/local/lib/python3.10/dist-packages (2.16.1)\n",
            "Requirement already satisfied: filelock in /usr/local/lib/python3.10/dist-packages (from datasets) (3.13.1)\n",
            "Requirement already satisfied: numpy>=1.17 in /usr/local/lib/python3.10/dist-packages (from datasets) (1.23.5)\n",
            "Requirement already satisfied: pyarrow>=8.0.0 in /usr/local/lib/python3.10/dist-packages (from datasets) (10.0.1)\n",
            "Requirement already satisfied: pyarrow-hotfix in /usr/local/lib/python3.10/dist-packages (from datasets) (0.6)\n",
            "Requirement already satisfied: dill<0.3.8,>=0.3.0 in /usr/local/lib/python3.10/dist-packages (from datasets) (0.3.7)\n",
            "Requirement already satisfied: pandas in /usr/local/lib/python3.10/dist-packages (from datasets) (1.5.3)\n",
            "Requirement already satisfied: requests>=2.19.0 in /usr/local/lib/python3.10/dist-packages (from datasets) (2.31.0)\n",
            "Requirement already satisfied: tqdm>=4.62.1 in /usr/local/lib/python3.10/dist-packages (from datasets) (4.66.1)\n",
            "Requirement already satisfied: xxhash in /usr/local/lib/python3.10/dist-packages (from datasets) (3.4.1)\n",
            "Requirement already satisfied: multiprocess in /usr/local/lib/python3.10/dist-packages (from datasets) (0.70.15)\n",
            "Requirement already satisfied: fsspec[http]<=2023.10.0,>=2023.1.0 in /usr/local/lib/python3.10/dist-packages (from datasets) (2023.6.0)\n",
            "Requirement already satisfied: aiohttp in /usr/local/lib/python3.10/dist-packages (from datasets) (3.9.1)\n",
            "Requirement already satisfied: huggingface-hub>=0.19.4 in /usr/local/lib/python3.10/dist-packages (from datasets) (0.20.3)\n",
            "Requirement already satisfied: packaging in /usr/local/lib/python3.10/dist-packages (from datasets) (23.2)\n",
            "Requirement already satisfied: pyyaml>=5.1 in /usr/local/lib/python3.10/dist-packages (from datasets) (6.0.1)\n",
            "Requirement already satisfied: attrs>=17.3.0 in /usr/local/lib/python3.10/dist-packages (from aiohttp->datasets) (23.2.0)\n",
            "Requirement already satisfied: multidict<7.0,>=4.5 in /usr/local/lib/python3.10/dist-packages (from aiohttp->datasets) (6.0.4)\n",
            "Requirement already satisfied: yarl<2.0,>=1.0 in /usr/local/lib/python3.10/dist-packages (from aiohttp->datasets) (1.9.4)\n",
            "Requirement already satisfied: frozenlist>=1.1.1 in /usr/local/lib/python3.10/dist-packages (from aiohttp->datasets) (1.4.1)\n",
            "Requirement already satisfied: aiosignal>=1.1.2 in /usr/local/lib/python3.10/dist-packages (from aiohttp->datasets) (1.3.1)\n",
            "Requirement already satisfied: async-timeout<5.0,>=4.0 in /usr/local/lib/python3.10/dist-packages (from aiohttp->datasets) (4.0.3)\n",
            "Requirement already satisfied: typing-extensions>=3.7.4.3 in /usr/local/lib/python3.10/dist-packages (from huggingface-hub>=0.19.4->datasets) (4.5.0)\n",
            "Requirement already satisfied: charset-normalizer<4,>=2 in /usr/local/lib/python3.10/dist-packages (from requests>=2.19.0->datasets) (3.3.2)\n",
            "Requirement already satisfied: idna<4,>=2.5 in /usr/local/lib/python3.10/dist-packages (from requests>=2.19.0->datasets) (3.6)\n",
            "Requirement already satisfied: urllib3<3,>=1.21.1 in /usr/local/lib/python3.10/dist-packages (from requests>=2.19.0->datasets) (2.0.7)\n",
            "Requirement already satisfied: certifi>=2017.4.17 in /usr/local/lib/python3.10/dist-packages (from requests>=2.19.0->datasets) (2023.11.17)\n",
            "Requirement already satisfied: python-dateutil>=2.8.1 in /usr/local/lib/python3.10/dist-packages (from pandas->datasets) (2.8.2)\n",
            "Requirement already satisfied: pytz>=2020.1 in /usr/local/lib/python3.10/dist-packages (from pandas->datasets) (2023.3.post1)\n",
            "Requirement already satisfied: six>=1.5 in /usr/local/lib/python3.10/dist-packages (from python-dateutil>=2.8.1->pandas->datasets) (1.16.0)\n"
          ]
        }
      ]
    },
    {
      "cell_type": "code",
      "source": [
        "from transformers import AutoModelForSeq2SeqLM, GPT2LMHeadModel, AutoModelForSequenceClassification\n",
        "from transformers import AutoTokenizer, GPT2Tokenizer\n",
        "from datasets import Dataset\n",
        "import numpy as np\n",
        "import nltk\n",
        "import random\n",
        "\n",
        "nltk.download('punkt')"
      ],
      "metadata": {
        "colab": {
          "base_uri": "https://localhost:8080/"
        },
        "id": "Xczef2kwnJSh",
        "outputId": "47da9da7-9bc9-4367-cd63-55fb074c91f6"
      },
      "execution_count": 113,
      "outputs": [
        {
          "output_type": "stream",
          "name": "stderr",
          "text": [
            "[nltk_data] Downloading package punkt to /root/nltk_data...\n",
            "[nltk_data]   Package punkt is already up-to-date!\n"
          ]
        },
        {
          "output_type": "execute_result",
          "data": {
            "text/plain": [
              "True"
            ]
          },
          "metadata": {},
          "execution_count": 113
        }
      ]
    },
    {
      "cell_type": "code",
      "source": [
        "# Load in medline dataset\n",
        "train_data = Dataset.from_file(f'{drive_path}/data/train/medline_train_data.arrow')\n",
        "test_data = Dataset.from_file(f'{drive_path}/data/test/medline_test_data.arrow')\n",
        "print(test_data)"
      ],
      "metadata": {
        "colab": {
          "base_uri": "https://localhost:8080/"
        },
        "id": "j4c49YeipDzH",
        "outputId": "c2f4386d-dd34-4a9a-876e-043308c6b733"
      },
      "execution_count": 4,
      "outputs": [
        {
          "output_type": "stream",
          "name": "stdout",
          "text": [
            "Dataset({\n",
            "    features: ['title', 'facts', 'style', 'output', 'input_ids', 'attention_mask', 'labels'],\n",
            "    num_rows: 6220\n",
            "})\n"
          ]
        }
      ]
    },
    {
      "cell_type": "code",
      "source": [
        "# Load in pretrained models\n",
        "imitator = GPT2LMHeadModel.from_pretrained(f'{drive_path}/imitator/model').to('cuda')\n",
        "retriever = AutoModelForSequenceClassification.from_pretrained(f'{drive_path}/retriever/model').to('cuda')\n",
        "paraphraser = AutoModelForSeq2SeqLM.from_pretrained(f'{drive_path}/paraphraser/model').to('cuda')"
      ],
      "metadata": {
        "id": "92I1QuVvn6Xq"
      },
      "execution_count": 5,
      "outputs": []
    },
    {
      "cell_type": "code",
      "source": [
        "#Load in tokenizers\n",
        "imitator_tokenizer = GPT2Tokenizer.from_pretrained('gpt2')\n",
        "retriever_tokenizer = AutoTokenizer.from_pretrained('distilbert-base-uncased')\n",
        "paraphraser_tokenizer = AutoTokenizer.from_pretrained('facebook/bart-large')"
      ],
      "metadata": {
        "colab": {
          "base_uri": "https://localhost:8080/"
        },
        "id": "nYfkHD_NwXJA",
        "outputId": "3ac26415-4ab2-4bc1-e4fd-f1ed19dc98c6"
      },
      "execution_count": 6,
      "outputs": [
        {
          "output_type": "stream",
          "name": "stderr",
          "text": [
            "/usr/local/lib/python3.10/dist-packages/huggingface_hub/utils/_token.py:88: UserWarning: \n",
            "The secret `HF_TOKEN` does not exist in your Colab secrets.\n",
            "To authenticate with the Hugging Face Hub, create a token in your settings tab (https://huggingface.co/settings/tokens), set it as secret in your Google Colab and restart your session.\n",
            "You will be able to reuse this secret in all of your notebooks.\n",
            "Please note that authentication is recommended but still optional to access public models or datasets.\n",
            "  warnings.warn(\n"
          ]
        }
      ]
    },
    {
      "cell_type": "code",
      "source": [
        "special_tokens = {'additional_special_tokens': ['<|topic|>', '<|style|>', '<|fact|>']}\n",
        "num_added_toks = paraphraser_tokenizer.add_special_tokens(special_tokens)\n",
        "paraphraser.resize_token_embeddings(len(paraphraser_tokenizer))"
      ],
      "metadata": {
        "colab": {
          "base_uri": "https://localhost:8080/"
        },
        "id": "1boa6mn3X4G0",
        "outputId": "41677171-0ac5-4522-d090-dcd147d79562"
      },
      "execution_count": 66,
      "outputs": [
        {
          "output_type": "execute_result",
          "data": {
            "text/plain": [
              "Embedding(50268, 1024, padding_idx=1)"
            ]
          },
          "metadata": {},
          "execution_count": 66
        }
      ]
    },
    {
      "cell_type": "code",
      "source": [
        "# Function for loading in prefix input r\n",
        "def get_prefix(topic):\n",
        "  return f'{topic} is used to treat'"
      ],
      "metadata": {
        "id": "ZcwWPFTxoWC_"
      },
      "execution_count": 7,
      "outputs": []
    },
    {
      "cell_type": "code",
      "source": [
        "# Function for generating next context sentence plan in output\n",
        "def get_imitated_sentence(prefix):\n",
        "  inputs = imitator_tokenizer(prefix, return_tensors = 'pt').to('cuda')\n",
        "  generation_output = imitator.generate(**inputs, return_dict_in_generate = True, output_scores = True, max_new_tokens = 64)\n",
        "  decoded_output = imitator_tokenizer.decode(generation_output.sequences[0])\n",
        "  new_sentence = decoded_output.split(prefix)[1].split('.')[0] + '.'\n",
        "  return new_sentence"
      ],
      "metadata": {
        "id": "0WSx-46_saWI"
      },
      "execution_count": 19,
      "outputs": []
    },
    {
      "cell_type": "code",
      "source": [
        "# Function for retrieving top k facts based off of current context sentence plan\n",
        "def get_retrieved_facts(sentence, fact_embeddings, k):\n",
        "  tokenized_sentence = retriever_tokenizer(sentence, return_tensors = 'pt', truncation = True).input_ids.to('cuda')\n",
        "  sentence_embedding = retriever(tokenized_sentence, output_hidden_states = True).hidden_states[-1].mean(axis = 1).to('cpu').detach()\n",
        "  fact_scores = []\n",
        "\n",
        "  for fact_embedding in fact_embeddings:\n",
        "    fact_scores.append([float((fact_embedding[0] @ sentence_embedding.T)[0][0]), fact_embedding[1]])\n",
        "\n",
        "  top_k_facts = sorted(fact_scores, key = lambda x: x[0], reverse = True)[:k]\n",
        "  return [fact[1] for fact in top_k_facts]"
      ],
      "metadata": {
        "id": "IawwsQYKsaev"
      },
      "execution_count": 76,
      "outputs": []
    },
    {
      "cell_type": "code",
      "source": [
        "# Function for combining current context sentence plan with top k facts for topic t\n",
        "def get_paraphrased_sentence(sentence, facts, topic):\n",
        "  facts_combined = ''\n",
        "  for fact in facts:\n",
        "    facts_combined = facts_combined + fact\n",
        "\n",
        "  model_input = ['<|topic|>' + topic + ' <|fact|> ' + facts_combined + ' <|style|> ' + sentence]\n",
        "  model_input = paraphraser_tokenizer(model_input, max_length = 512, truncation = True, return_tensors='pt')\n",
        "  attention_mask = model_input.attention_mask.to('cuda')\n",
        "  input_ids = model_input.input_ids.to('cuda')\n",
        "  outputs = paraphraser.generate(input_ids, attention_mask = attention_mask, max_length = 512).to('cpu').detach()\n",
        "  output_str = paraphraser_tokenizer.batch_decode(outputs, skip_special_tokens = True)\n",
        "  return (''.join(output_str).split('.')[0] + '.')[len(topic) + 1:]"
      ],
      "metadata": {
        "id": "nOfy9X_tsahV"
      },
      "execution_count": 104,
      "outputs": []
    },
    {
      "cell_type": "code",
      "source": [
        "# Function for generating expository text using IRP\n",
        "def IRP(topic, prefix, facts):\n",
        "  output = prefix\n",
        "\n",
        "  fact_embeddings = []\n",
        "  for fact in facts:\n",
        "    tokenized_fact = retriever_tokenizer(fact, return_tensors = 'pt', truncation = True).input_ids.to('cuda')\n",
        "    fact_embedding = retriever(tokenized_fact, output_hidden_states = True).hidden_states[-1].mean(axis = 1).to('cpu').detach()\n",
        "    fact_embeddings.append([fact_embedding, fact])\n",
        "\n",
        "  for i in range(1000):\n",
        "    # Get new imitated sentence\n",
        "    imitated_sentence = get_imitated_sentence(output)\n",
        "\n",
        "    if i == 0:\n",
        "      imitated_sentence = prefix + imitated_sentence\n",
        "\n",
        "    if imitated_sentence == '<|endoftext|>':\n",
        "      break\n",
        "\n",
        "    # Retrieve top facts\n",
        "    retrieved_facts = get_retrieved_facts(imitated_sentence, fact_embeddings, 1)\n",
        "\n",
        "    # Paraphrase imitated sentence with retrieved facts\n",
        "    paraphrased_sentence = get_paraphrased_sentence(imitated_sentence, retrieved_facts, topic)\n",
        "\n",
        "    if i == 0:\n",
        "      output = paraphrased_sentence.lstrip().rstrip()\n",
        "    else:\n",
        "      output = (output + ' ' + paraphrased_sentence).lstrip().rstrip()\n",
        "\n",
        "    if i == 3:\n",
        "      break\n",
        "\n",
        "  return output"
      ],
      "metadata": {
        "id": "49GQB2miq460"
      },
      "execution_count": 108,
      "outputs": []
    },
    {
      "cell_type": "code",
      "source": [
        "# Inference loop over dataset\n",
        "results = []\n",
        "random_indices = random.sample(range(len(test_data)), 5)\n",
        "\n",
        "for idx in random_indices:\n",
        "  row = test_data[idx]\n",
        "  topic = row['title']\n",
        "  prefix = get_prefix(topic)\n",
        "  facts = row['facts']\n",
        "  expository_text = IRP(topic, prefix, facts)\n",
        "  results.append({'topic': topic, 'prefix': prefix, 'facts': facts, 'expository_text': expository_text})"
      ],
      "metadata": {
        "colab": {
          "base_uri": "https://localhost:8080/"
        },
        "id": "laAUImNuo704",
        "outputId": "02837058-d102-4384-bbad-38f367031272"
      },
      "execution_count": 115,
      "outputs": [
        {
          "output_type": "stream",
          "name": "stderr",
          "text": [
            "Setting `pad_token_id` to `eos_token_id`:50256 for open-end generation.\n",
            "Setting `pad_token_id` to `eos_token_id`:50256 for open-end generation.\n"
          ]
        },
        {
          "output_type": "stream",
          "name": "stdout",
          "text": [
            "is used to treat certain types of chronic myeloid leukemia (CML; a cancer that starts in the white blood cells) in adults and children 2 years of age and older.\n"
          ]
        },
        {
          "output_type": "stream",
          "name": "stderr",
          "text": [
            "Setting `pad_token_id` to `eos_token_id`:50256 for open-end generation.\n"
          ]
        },
        {
          "output_type": "stream",
          "name": "stdout",
          "text": [
            "is used to treat certain types of chronic myeloid leukemia (CML; a cancer that starts in the white blood cells) in adults and children 2 years of age and older.  It is also used to treat certain types of chronic myeloid leukemia (CML; a cancer that starts in the white blood cells) in adults and children 2 years of age and older.\n"
          ]
        },
        {
          "output_type": "stream",
          "name": "stderr",
          "text": [
            "Setting `pad_token_id` to `eos_token_id`:50256 for open-end generation.\n"
          ]
        },
        {
          "output_type": "stream",
          "name": "stdout",
          "text": [
            "is used to treat certain types of chronic myeloid leukemia (CML; a cancer that starts in the white blood cells) in adults and children 2 years of age and older.  It is also used to treat certain types of chronic myeloid leukemia (CML; a cancer that starts in the white blood cells) in adults and children 2 years of age and older.   It is also used to treat certain types of chronic myeloid leukemia (CML; a cancer that starts in the white blood cells) in adults and children 2 years of age and older.\n"
          ]
        },
        {
          "output_type": "stream",
          "name": "stderr",
          "text": [
            "Setting `pad_token_id` to `eos_token_id`:50256 for open-end generation.\n"
          ]
        },
        {
          "output_type": "stream",
          "name": "stdout",
          "text": [
            "is used to treat certain types of chronic myeloid leukemia (CML; a cancer that starts in the white blood cells) in adults and children 2 years of age and older.  It is also used to treat certain types of chronic myeloid leukemia (CML; a cancer that starts in the white blood cells) in adults and children 2 years of age and older.   It is also used to treat certain types of chronic myeloid leukemia (CML; a cancer that starts in the white blood cells) in adults and children 2 years of age and older.    It is also used to treat certain types of chronic myeloid leukemia (CML; a cancer that starts in the white blood cells) in adults and children 2 years of age and older.\n"
          ]
        },
        {
          "output_type": "stream",
          "name": "stderr",
          "text": [
            "Setting `pad_token_id` to `eos_token_id`:50256 for open-end generation.\n"
          ]
        },
        {
          "output_type": "stream",
          "name": "stdout",
          "text": [
            "It does not work right away and should not be used to relieve sudden asthma attacks.\n"
          ]
        },
        {
          "output_type": "stream",
          "name": "stderr",
          "text": [
            "Setting `pad_token_id` to `eos_token_id`:50256 for open-end generation.\n"
          ]
        },
        {
          "output_type": "stream",
          "name": "stdout",
          "text": [
            "It does not work right away and should not be used to relieve sudden asthma attacks.  It does not work right away and should not be used to relieve sudden asthma attacks.\n"
          ]
        },
        {
          "output_type": "stream",
          "name": "stderr",
          "text": [
            "Setting `pad_token_id` to `eos_token_id`:50256 for open-end generation.\n"
          ]
        },
        {
          "output_type": "stream",
          "name": "stdout",
          "text": [
            "It does not work right away and should not be used to relieve sudden asthma attacks.  It does not work right away and should not be used to relieve sudden asthma attacks.  It does not work right away and should not be used to relieve sudden asthma attacks.\n"
          ]
        },
        {
          "output_type": "stream",
          "name": "stderr",
          "text": [
            "Setting `pad_token_id` to `eos_token_id`:50256 for open-end generation.\n"
          ]
        },
        {
          "output_type": "stream",
          "name": "stdout",
          "text": [
            "It does not work right away and should not be used to relieve sudden asthma attacks.  It does not work right away and should not be used to relieve sudden asthma attacks.  It does not work right away and should not be used to relieve sudden asthma attacks.  It does not work right away and should not be used to relieve sudden asthma attacks.\n"
          ]
        },
        {
          "output_type": "stream",
          "name": "stderr",
          "text": [
            "Setting `pad_token_id` to `eos_token_id`:50256 for open-end generation.\n"
          ]
        },
        {
          "output_type": "stream",
          "name": "stdout",
          "text": [
            "is used to treat certain types of chronic myeloid leukemia (CML; a cancer that starts in the white blood cells) in adults and children 2 years of age and older.\n"
          ]
        },
        {
          "output_type": "stream",
          "name": "stderr",
          "text": [
            "Setting `pad_token_id` to `eos_token_id`:50256 for open-end generation.\n"
          ]
        },
        {
          "output_type": "stream",
          "name": "stdout",
          "text": [
            "is used to treat certain types of chronic myeloid leukemia (CML; a cancer that starts in the white blood cells) in adults and children 2 years of age and older.  It is also used to treat certain types of chronic myeloid leukemia (CML; a cancer that starts in the white blood cells) in adults and children 2 years of age and older.\n"
          ]
        },
        {
          "output_type": "stream",
          "name": "stderr",
          "text": [
            "Setting `pad_token_id` to `eos_token_id`:50256 for open-end generation.\n"
          ]
        },
        {
          "output_type": "stream",
          "name": "stdout",
          "text": [
            "is used to treat certain types of chronic myeloid leukemia (CML; a cancer that starts in the white blood cells) in adults and children 2 years of age and older.  It is also used to treat certain types of chronic myeloid leukemia (CML; a cancer that starts in the white blood cells) in adults and children 2 years of age and older.  This medication is used to prevent certain types of chest pain angina.\n"
          ]
        },
        {
          "output_type": "stream",
          "name": "stderr",
          "text": [
            "Setting `pad_token_id` to `eos_token_id`:50256 for open-end generation.\n"
          ]
        },
        {
          "output_type": "stream",
          "name": "stdout",
          "text": [
            "is used to treat certain types of chronic myeloid leukemia (CML; a cancer that starts in the white blood cells) in adults and children 2 years of age and older.  It is also used to treat certain types of chronic myeloid leukemia (CML; a cancer that starts in the white blood cells) in adults and children 2 years of age and older.  This medication is used to prevent certain types of chest pain angina.  This medication is used to prevent certain types of chest pain angina.\n"
          ]
        },
        {
          "output_type": "stream",
          "name": "stderr",
          "text": [
            "Setting `pad_token_id` to `eos_token_id`:50256 for open-end generation.\n"
          ]
        },
        {
          "output_type": "stream",
          "name": "stdout",
          "text": [
            "Olanzapine can increase the amount of sugar in your blood and this can sometimes lead to diabetes.\n"
          ]
        },
        {
          "output_type": "stream",
          "name": "stderr",
          "text": [
            "Setting `pad_token_id` to `eos_token_id`:50256 for open-end generation.\n"
          ]
        },
        {
          "output_type": "stream",
          "name": "stdout",
          "text": [
            "Olanzapine can increase the amount of sugar in your blood and this can sometimes lead to diabetes.  Antipsychotic drugs elevate prolactin levels; the elevation persists during chronic administration.\n"
          ]
        },
        {
          "output_type": "stream",
          "name": "stderr",
          "text": [
            "Setting `pad_token_id` to `eos_token_id`:50256 for open-end generation.\n"
          ]
        },
        {
          "output_type": "stream",
          "name": "stdout",
          "text": [
            "Olanzapine can increase the amount of sugar in your blood and this can sometimes lead to diabetes.  Antipsychotic drugs elevate prolactin levels; the elevation persists during chronic administration.  Antipsychotic drugs elevate prolactin levels; the elevation persists during chronic administration.\n"
          ]
        },
        {
          "output_type": "stream",
          "name": "stderr",
          "text": [
            "Setting `pad_token_id` to `eos_token_id`:50256 for open-end generation.\n"
          ]
        },
        {
          "output_type": "stream",
          "name": "stdout",
          "text": [
            "Olanzapine can increase the amount of sugar in your blood and this can sometimes lead to diabetes.  Antipsychotic drugs elevate prolactin levels; the elevation persists during chronic administration.  Antipsychotic drugs elevate prolactin levels; the elevation persists during chronic administration.  Antipsychotic drugs elevate prolactin levels; the elevation persists during chronic administration.\n"
          ]
        },
        {
          "output_type": "stream",
          "name": "stderr",
          "text": [
            "Setting `pad_token_id` to `eos_token_id`:50256 for open-end generation.\n"
          ]
        },
        {
          "output_type": "stream",
          "name": "stdout",
          "text": [
            "At clinically relevant doses, modafil significantly increases dopamine in the human brain by blocking dopamine transporters.\n"
          ]
        },
        {
          "output_type": "stream",
          "name": "stderr",
          "text": [
            "Setting `pad_token_id` to `eos_token_id`:50256 for open-end generation.\n"
          ]
        },
        {
          "output_type": "stream",
          "name": "stdout",
          "text": [
            "At clinically relevant doses, modafil significantly increases dopamine in the human brain by blocking dopamine transporters.  At clinically relevant doses, modafil significantly increases dopamine in the human brain by blocking dopamine transporters.\n"
          ]
        },
        {
          "output_type": "stream",
          "name": "stderr",
          "text": [
            "Setting `pad_token_id` to `eos_token_id`:50256 for open-end generation.\n"
          ]
        },
        {
          "output_type": "stream",
          "name": "stdout",
          "text": [
            "At clinically relevant doses, modafil significantly increases dopamine in the human brain by blocking dopamine transporters.  At clinically relevant doses, modafil significantly increases dopamine in the human brain by blocking dopamine transporters.  It is also used to treat certain types of chronic myeloid leukemia (CML; a cancer of the white blood cells) that has spread to other parts of the body.\n",
            "At clinically relevant doses, modafil significantly increases dopamine in the human brain by blocking dopamine transporters.  At clinically relevant doses, modafil significantly increases dopamine in the human brain by blocking dopamine transporters.  It is also used to treat certain types of chronic myeloid leukemia (CML; a cancer of the white blood cells) that has spread to other parts of the body.  It is also used to treat certain types of chronic myeloid leukemia (CML; a cancer of the white blood cells) that has spread to other parts of the body.\n"
          ]
        }
      ]
    },
    {
      "cell_type": "code",
      "source": [
        "for result in results:\n",
        "  print(f'TOPIC: {result[\"topic\"]}')\n",
        "  print(f'EXPOSITORY TEXT: {result[\"expository_text\"]}')"
      ],
      "metadata": {
        "colab": {
          "base_uri": "https://localhost:8080/"
        },
        "id": "EvX3kognfmva",
        "outputId": "8044f331-37e7-4a33-eb38-f9e3870b6e1c"
      },
      "execution_count": 118,
      "outputs": [
        {
          "output_type": "stream",
          "name": "stdout",
          "text": [
            "TOPIC: Enasidenib\n",
            "EXPOSITORY TEXT: is used to treat certain types of chronic myeloid leukemia (CML; a cancer that starts in the white blood cells) in adults and children 2 years of age and older.  It is also used to treat certain types of chronic myeloid leukemia (CML; a cancer that starts in the white blood cells) in adults and children 2 years of age and older.   It is also used to treat certain types of chronic myeloid leukemia (CML; a cancer that starts in the white blood cells) in adults and children 2 years of age and older.    It is also used to treat certain types of chronic myeloid leukemia (CML; a cancer that starts in the white blood cells) in adults and children 2 years of age and older.\n",
            "TOPIC: Zafirlukast\n",
            "EXPOSITORY TEXT: It does not work right away and should not be used to relieve sudden asthma attacks.  It does not work right away and should not be used to relieve sudden asthma attacks.  It does not work right away and should not be used to relieve sudden asthma attacks.  It does not work right away and should not be used to relieve sudden asthma attacks.\n",
            "TOPIC: Nifedipine\n",
            "EXPOSITORY TEXT: is used to treat certain types of chronic myeloid leukemia (CML; a cancer that starts in the white blood cells) in adults and children 2 years of age and older.  It is also used to treat certain types of chronic myeloid leukemia (CML; a cancer that starts in the white blood cells) in adults and children 2 years of age and older.  This medication is used to prevent certain types of chest pain angina.  This medication is used to prevent certain types of chest pain angina.\n",
            "TOPIC: Loxapine\n",
            "EXPOSITORY TEXT: Olanzapine can increase the amount of sugar in your blood and this can sometimes lead to diabetes.  Antipsychotic drugs elevate prolactin levels; the elevation persists during chronic administration.  Antipsychotic drugs elevate prolactin levels; the elevation persists during chronic administration.  Antipsychotic drugs elevate prolactin levels; the elevation persists during chronic administration.\n",
            "TOPIC: Modafinil\n",
            "EXPOSITORY TEXT: At clinically relevant doses, modafil significantly increases dopamine in the human brain by blocking dopamine transporters.  At clinically relevant doses, modafil significantly increases dopamine in the human brain by blocking dopamine transporters.  It is also used to treat certain types of chronic myeloid leukemia (CML; a cancer of the white blood cells) that has spread to other parts of the body.  It is also used to treat certain types of chronic myeloid leukemia (CML; a cancer of the white blood cells) that has spread to other parts of the body.\n"
          ]
        }
      ]
    }
  ]
}